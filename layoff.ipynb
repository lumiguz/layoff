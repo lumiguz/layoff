{
 "cells": [
  {
   "attachments": {},
   "cell_type": "markdown",
   "metadata": {},
   "source": [
    "## 1. Importing modules"
   ]
  },
  {
   "cell_type": "code",
   "execution_count": 1,
   "metadata": {},
   "outputs": [],
   "source": [
    "import pandas as pd\n",
    "import seaborn as sns\n",
    "import matplotlib.pyplot as plt"
   ]
  },
  {
   "attachments": {},
   "cell_type": "markdown",
   "metadata": {},
   "source": [
    "## 1.1 Reading Dataset"
   ]
  },
  {
   "cell_type": "code",
   "execution_count": 2,
   "metadata": {},
   "outputs": [
    {
     "name": "stdout",
     "output_type": "stream",
     "text": [
      "         company     location   industry  total_laid_off  percentage_laid_off  \\\n",
      "0         FarEye    New Delhi  Logistics            90.0                  NaN   \n",
      "1  Protocol Labs  SF Bay Area     Crypto            89.0                 0.20   \n",
      "2         Byju's    Bengaluru  Education          1500.0                  NaN   \n",
      "3           Okta  SF Bay Area      Other           300.0                 0.05   \n",
      "4       Autodesk  SF Bay Area      Other           250.0                 0.02   \n",
      "\n",
      "         date           stage        country  funds_raised  \n",
      "0  2023-02-03        Series E          India         150.0  \n",
      "1  2023-02-03         Unknown  United States          10.0  \n",
      "2  2023-02-02  Private Equity          India        5500.0  \n",
      "3  2023-02-02        Post-IPO  United States        1200.0  \n",
      "4  2023-02-02        Post-IPO  United States           NaN  \n"
     ]
    }
   ],
   "source": [
    "data = pd.read_csv('Dataset\\layoffs.csv')\n",
    "print(data.head())"
   ]
  }
 ],
 "metadata": {
  "kernelspec": {
   "display_name": "DataScience",
   "language": "python",
   "name": "python3"
  },
  "language_info": {
   "codemirror_mode": {
    "name": "ipython",
    "version": 3
   },
   "file_extension": ".py",
   "mimetype": "text/x-python",
   "name": "python",
   "nbconvert_exporter": "python",
   "pygments_lexer": "ipython3",
   "version": "3.9.16"
  },
  "orig_nbformat": 4,
  "vscode": {
   "interpreter": {
    "hash": "378f79a540af6f3bf03ff49043f976c58d62a4cde430a617245adaf28f62b1aa"
   }
  }
 },
 "nbformat": 4,
 "nbformat_minor": 2
}
